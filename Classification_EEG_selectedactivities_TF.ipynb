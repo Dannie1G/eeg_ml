{
 "cells": [
  {
   "cell_type": "markdown",
   "metadata": {},
   "source": [
    "Classification of tasks using EEG data <br>\n",
    "Using TensorFlow <br>\n",
    "https://www.kaggle.com/wpncrh/classifying-tasks-using-eeg-data-w-tensorflow-nn"
   ]
  },
  {
   "cell_type": "code",
   "execution_count": 1,
   "metadata": {},
   "outputs": [],
   "source": [
    "import json\n",
    "import pandas as pd\n",
    "import numpy as np\n",
    "import tensorflow as tf\n",
    "from sklearn.model_selection import train_test_split\n",
    "\n",
    "from sklearn.preprocessing import StandardScaler"
   ]
  },
  {
   "cell_type": "code",
   "execution_count": 2,
   "metadata": {},
   "outputs": [],
   "source": [
    "df = pd.read_csv('eeg-data.csv')"
   ]
  },
  {
   "cell_type": "code",
   "execution_count": 3,
   "metadata": {},
   "outputs": [],
   "source": [
    "df['eeg_power'] = df.eeg_power.map(json.loads)"
   ]
  },
  {
   "cell_type": "code",
   "execution_count": 4,
   "metadata": {},
   "outputs": [
    {
     "data": {
      "text/html": [
       "<div>\n",
       "<style scoped>\n",
       "    .dataframe tbody tr th:only-of-type {\n",
       "        vertical-align: middle;\n",
       "    }\n",
       "\n",
       "    .dataframe tbody tr th {\n",
       "        vertical-align: top;\n",
       "    }\n",
       "\n",
       "    .dataframe thead th {\n",
       "        text-align: right;\n",
       "    }\n",
       "</style>\n",
       "<table border=\"1\" class=\"dataframe\">\n",
       "  <thead>\n",
       "    <tr style=\"text-align: right;\">\n",
       "      <th></th>\n",
       "      <th>Unnamed: 0</th>\n",
       "      <th>id</th>\n",
       "      <th>indra_time</th>\n",
       "      <th>browser_latency</th>\n",
       "      <th>reading_time</th>\n",
       "      <th>attention_esense</th>\n",
       "      <th>meditation_esense</th>\n",
       "      <th>eeg_power</th>\n",
       "      <th>raw_values</th>\n",
       "      <th>signal_quality</th>\n",
       "      <th>createdAt</th>\n",
       "      <th>updatedAt</th>\n",
       "      <th>label</th>\n",
       "    </tr>\n",
       "  </thead>\n",
       "  <tbody>\n",
       "    <tr>\n",
       "      <th>0</th>\n",
       "      <td>3730</td>\n",
       "      <td>12</td>\n",
       "      <td>2015-05-09 23:13:42.281</td>\n",
       "      <td>1461</td>\n",
       "      <td>2015-05-09 16:13:40.954</td>\n",
       "      <td>0</td>\n",
       "      <td>0</td>\n",
       "      <td>[944412.0, 111373.0, 52404.0, 28390.0, 3237.0,...</td>\n",
       "      <td>[-203.0, -202.0, -196.0, -185.0, -163.0, -137....</td>\n",
       "      <td>200</td>\n",
       "      <td>2015-05-09 23:13:39.550</td>\n",
       "      <td>2015-05-09 23:13:39.549+00</td>\n",
       "      <td>unlabeled</td>\n",
       "    </tr>\n",
       "    <tr>\n",
       "      <th>1</th>\n",
       "      <td>3732</td>\n",
       "      <td>12</td>\n",
       "      <td>2015-05-09 23:13:43.186</td>\n",
       "      <td>1461</td>\n",
       "      <td>2015-05-09 16:13:41.964</td>\n",
       "      <td>0</td>\n",
       "      <td>0</td>\n",
       "      <td>[1793049.0, 89551.0, 3896.0, 21727.0, 9301.0, ...</td>\n",
       "      <td>[104.0, 134.0, 128.0, 121.0, 145.0, 151.0, 123...</td>\n",
       "      <td>200</td>\n",
       "      <td>2015-05-09 23:13:40.559</td>\n",
       "      <td>2015-05-09 23:13:40.559+00</td>\n",
       "      <td>unlabeled</td>\n",
       "    </tr>\n",
       "  </tbody>\n",
       "</table>\n",
       "</div>"
      ],
      "text/plain": [
       "   Unnamed: 0  id               indra_time browser_latency  \\\n",
       "0        3730  12  2015-05-09 23:13:42.281            1461   \n",
       "1        3732  12  2015-05-09 23:13:43.186            1461   \n",
       "\n",
       "              reading_time  attention_esense  meditation_esense  \\\n",
       "0  2015-05-09 16:13:40.954                 0                  0   \n",
       "1  2015-05-09 16:13:41.964                 0                  0   \n",
       "\n",
       "                                           eeg_power  \\\n",
       "0  [944412.0, 111373.0, 52404.0, 28390.0, 3237.0,...   \n",
       "1  [1793049.0, 89551.0, 3896.0, 21727.0, 9301.0, ...   \n",
       "\n",
       "                                          raw_values  signal_quality  \\\n",
       "0  [-203.0, -202.0, -196.0, -185.0, -163.0, -137....             200   \n",
       "1  [104.0, 134.0, 128.0, 121.0, 145.0, 151.0, 123...             200   \n",
       "\n",
       "                 createdAt                   updatedAt      label  \n",
       "0  2015-05-09 23:13:39.550  2015-05-09 23:13:39.549+00  unlabeled  \n",
       "1  2015-05-09 23:13:40.559  2015-05-09 23:13:40.559+00  unlabeled  "
      ]
     },
     "execution_count": 4,
     "metadata": {},
     "output_type": "execute_result"
    }
   ],
   "source": [
    "df.head(2)"
   ]
  },
  {
   "cell_type": "code",
   "execution_count": 5,
   "metadata": {},
   "outputs": [
    {
     "data": {
      "text/html": [
       "<div>\n",
       "<style scoped>\n",
       "    .dataframe tbody tr th:only-of-type {\n",
       "        vertical-align: middle;\n",
       "    }\n",
       "\n",
       "    .dataframe tbody tr th {\n",
       "        vertical-align: top;\n",
       "    }\n",
       "\n",
       "    .dataframe thead th {\n",
       "        text-align: right;\n",
       "    }\n",
       "</style>\n",
       "<table border=\"1\" class=\"dataframe\">\n",
       "  <thead>\n",
       "    <tr style=\"text-align: right;\">\n",
       "      <th></th>\n",
       "      <th>Unnamed: 0</th>\n",
       "      <th>id</th>\n",
       "      <th>attention_esense</th>\n",
       "      <th>meditation_esense</th>\n",
       "      <th>signal_quality</th>\n",
       "    </tr>\n",
       "  </thead>\n",
       "  <tbody>\n",
       "    <tr>\n",
       "      <th>count</th>\n",
       "      <td>30013.000000</td>\n",
       "      <td>30013.000000</td>\n",
       "      <td>30013.000000</td>\n",
       "      <td>30013.000000</td>\n",
       "      <td>30013.000000</td>\n",
       "    </tr>\n",
       "    <tr>\n",
       "      <th>mean</th>\n",
       "      <td>15010.952521</td>\n",
       "      <td>13.685570</td>\n",
       "      <td>40.284710</td>\n",
       "      <td>46.638723</td>\n",
       "      <td>25.871856</td>\n",
       "    </tr>\n",
       "    <tr>\n",
       "      <th>std</th>\n",
       "      <td>8666.911131</td>\n",
       "      <td>8.479506</td>\n",
       "      <td>24.446432</td>\n",
       "      <td>26.153089</td>\n",
       "      <td>64.636640</td>\n",
       "    </tr>\n",
       "    <tr>\n",
       "      <th>min</th>\n",
       "      <td>0.000000</td>\n",
       "      <td>1.000000</td>\n",
       "      <td>0.000000</td>\n",
       "      <td>0.000000</td>\n",
       "      <td>0.000000</td>\n",
       "    </tr>\n",
       "    <tr>\n",
       "      <th>25%</th>\n",
       "      <td>7506.000000</td>\n",
       "      <td>6.000000</td>\n",
       "      <td>24.000000</td>\n",
       "      <td>34.000000</td>\n",
       "      <td>0.000000</td>\n",
       "    </tr>\n",
       "    <tr>\n",
       "      <th>50%</th>\n",
       "      <td>15010.000000</td>\n",
       "      <td>13.000000</td>\n",
       "      <td>43.000000</td>\n",
       "      <td>50.000000</td>\n",
       "      <td>0.000000</td>\n",
       "    </tr>\n",
       "    <tr>\n",
       "      <th>75%</th>\n",
       "      <td>22517.000000</td>\n",
       "      <td>20.000000</td>\n",
       "      <td>57.000000</td>\n",
       "      <td>64.000000</td>\n",
       "      <td>0.000000</td>\n",
       "    </tr>\n",
       "    <tr>\n",
       "      <th>max</th>\n",
       "      <td>30021.000000</td>\n",
       "      <td>30.000000</td>\n",
       "      <td>100.000000</td>\n",
       "      <td>100.000000</td>\n",
       "      <td>200.000000</td>\n",
       "    </tr>\n",
       "  </tbody>\n",
       "</table>\n",
       "</div>"
      ],
      "text/plain": [
       "         Unnamed: 0            id  attention_esense  meditation_esense  \\\n",
       "count  30013.000000  30013.000000      30013.000000       30013.000000   \n",
       "mean   15010.952521     13.685570         40.284710          46.638723   \n",
       "std     8666.911131      8.479506         24.446432          26.153089   \n",
       "min        0.000000      1.000000          0.000000           0.000000   \n",
       "25%     7506.000000      6.000000         24.000000          34.000000   \n",
       "50%    15010.000000     13.000000         43.000000          50.000000   \n",
       "75%    22517.000000     20.000000         57.000000          64.000000   \n",
       "max    30021.000000     30.000000        100.000000         100.000000   \n",
       "\n",
       "       signal_quality  \n",
       "count    30013.000000  \n",
       "mean        25.871856  \n",
       "std         64.636640  \n",
       "min          0.000000  \n",
       "25%          0.000000  \n",
       "50%          0.000000  \n",
       "75%          0.000000  \n",
       "max        200.000000  "
      ]
     },
     "execution_count": 5,
     "metadata": {},
     "output_type": "execute_result"
    }
   ],
   "source": [
    "df.describe()"
   ]
  },
  {
   "cell_type": "code",
   "execution_count": 6,
   "metadata": {},
   "outputs": [],
   "source": [
    "df = df.drop('Unnamed: 0', 1)\n",
    "df = df.drop('indra_time', 1)\n",
    "df = df.drop('browser_latency', 1)\n",
    "df = df.drop('reading_time', 1)\n",
    "df = df.drop('attention_esense', 1)\n",
    "df = df.drop('meditation_esense', 1)\n",
    "df = df.drop('raw_values', 1)\n",
    "df = df.drop('signal_quality', 1)\n",
    "df = df.drop('createdAt', 1)\n",
    "df = df.drop('updatedAt', 1)"
   ]
  },
  {
   "cell_type": "code",
   "execution_count": 7,
   "metadata": {
    "scrolled": true
   },
   "outputs": [
    {
     "data": {
      "text/html": [
       "<div>\n",
       "<style scoped>\n",
       "    .dataframe tbody tr th:only-of-type {\n",
       "        vertical-align: middle;\n",
       "    }\n",
       "\n",
       "    .dataframe tbody tr th {\n",
       "        vertical-align: top;\n",
       "    }\n",
       "\n",
       "    .dataframe thead th {\n",
       "        text-align: right;\n",
       "    }\n",
       "</style>\n",
       "<table border=\"1\" class=\"dataframe\">\n",
       "  <thead>\n",
       "    <tr style=\"text-align: right;\">\n",
       "      <th></th>\n",
       "      <th>id</th>\n",
       "      <th>eeg_power</th>\n",
       "      <th>label</th>\n",
       "    </tr>\n",
       "  </thead>\n",
       "  <tbody>\n",
       "    <tr>\n",
       "      <th>0</th>\n",
       "      <td>12</td>\n",
       "      <td>[944412.0, 111373.0, 52404.0, 28390.0, 3237.0,...</td>\n",
       "      <td>unlabeled</td>\n",
       "    </tr>\n",
       "    <tr>\n",
       "      <th>1</th>\n",
       "      <td>12</td>\n",
       "      <td>[1793049.0, 89551.0, 3896.0, 21727.0, 9301.0, ...</td>\n",
       "      <td>unlabeled</td>\n",
       "    </tr>\n",
       "    <tr>\n",
       "      <th>2</th>\n",
       "      <td>12</td>\n",
       "      <td>[400192.0, 640624.0, 153087.0, 69733.0, 98854....</td>\n",
       "      <td>unlabeled</td>\n",
       "    </tr>\n",
       "    <tr>\n",
       "      <th>3</th>\n",
       "      <td>12</td>\n",
       "      <td>[681192.0, 138630.0, 67891.0, 26459.0, 592240....</td>\n",
       "      <td>unlabeled</td>\n",
       "    </tr>\n",
       "    <tr>\n",
       "      <th>4</th>\n",
       "      <td>12</td>\n",
       "      <td>[268406.0, 197772.0, 190654.0, 266433.0, 91683...</td>\n",
       "      <td>unlabeled</td>\n",
       "    </tr>\n",
       "  </tbody>\n",
       "</table>\n",
       "</div>"
      ],
      "text/plain": [
       "   id                                          eeg_power      label\n",
       "0  12  [944412.0, 111373.0, 52404.0, 28390.0, 3237.0,...  unlabeled\n",
       "1  12  [1793049.0, 89551.0, 3896.0, 21727.0, 9301.0, ...  unlabeled\n",
       "2  12  [400192.0, 640624.0, 153087.0, 69733.0, 98854....  unlabeled\n",
       "3  12  [681192.0, 138630.0, 67891.0, 26459.0, 592240....  unlabeled\n",
       "4  12  [268406.0, 197772.0, 190654.0, 266433.0, 91683...  unlabeled"
      ]
     },
     "execution_count": 7,
     "metadata": {},
     "output_type": "execute_result"
    }
   ],
   "source": [
    "df.head()"
   ]
  },
  {
   "cell_type": "code",
   "execution_count": 8,
   "metadata": {},
   "outputs": [
    {
     "data": {
      "text/plain": [
       "30013"
      ]
     },
     "execution_count": 8,
     "metadata": {},
     "output_type": "execute_result"
    }
   ],
   "source": [
    "len(df)"
   ]
  },
  {
   "cell_type": "code",
   "execution_count": 9,
   "metadata": {},
   "outputs": [],
   "source": [
    "# seperate eeg power into multiple columns\n",
    "to_series = pd.Series(df['eeg_power'])\n",
    "eeg_features = pd.DataFrame(to_series.tolist())\n",
    "df_eeg = pd.concat([df, eeg_features], axis=1)"
   ]
  },
  {
   "cell_type": "code",
   "execution_count": 10,
   "metadata": {},
   "outputs": [],
   "source": [
    "df_eeg = df_eeg.drop('eeg_power', 1)"
   ]
  },
  {
   "cell_type": "code",
   "execution_count": 11,
   "metadata": {
    "scrolled": true
   },
   "outputs": [
    {
     "data": {
      "text/html": [
       "<div>\n",
       "<style scoped>\n",
       "    .dataframe tbody tr th:only-of-type {\n",
       "        vertical-align: middle;\n",
       "    }\n",
       "\n",
       "    .dataframe tbody tr th {\n",
       "        vertical-align: top;\n",
       "    }\n",
       "\n",
       "    .dataframe thead th {\n",
       "        text-align: right;\n",
       "    }\n",
       "</style>\n",
       "<table border=\"1\" class=\"dataframe\">\n",
       "  <thead>\n",
       "    <tr style=\"text-align: right;\">\n",
       "      <th></th>\n",
       "      <th>id</th>\n",
       "      <th>label</th>\n",
       "      <th>0</th>\n",
       "      <th>1</th>\n",
       "      <th>2</th>\n",
       "      <th>3</th>\n",
       "      <th>4</th>\n",
       "      <th>5</th>\n",
       "      <th>6</th>\n",
       "      <th>7</th>\n",
       "    </tr>\n",
       "  </thead>\n",
       "  <tbody>\n",
       "    <tr>\n",
       "      <th>0</th>\n",
       "      <td>12</td>\n",
       "      <td>unlabeled</td>\n",
       "      <td>944412.0</td>\n",
       "      <td>111373.0</td>\n",
       "      <td>52404.0</td>\n",
       "      <td>28390.0</td>\n",
       "      <td>3237.0</td>\n",
       "      <td>32728.0</td>\n",
       "      <td>4845.0</td>\n",
       "      <td>2036.0</td>\n",
       "    </tr>\n",
       "    <tr>\n",
       "      <th>1</th>\n",
       "      <td>12</td>\n",
       "      <td>unlabeled</td>\n",
       "      <td>1793049.0</td>\n",
       "      <td>89551.0</td>\n",
       "      <td>3896.0</td>\n",
       "      <td>21727.0</td>\n",
       "      <td>9301.0</td>\n",
       "      <td>16096.0</td>\n",
       "      <td>3496.0</td>\n",
       "      <td>643.0</td>\n",
       "    </tr>\n",
       "    <tr>\n",
       "      <th>2</th>\n",
       "      <td>12</td>\n",
       "      <td>unlabeled</td>\n",
       "      <td>400192.0</td>\n",
       "      <td>640624.0</td>\n",
       "      <td>153087.0</td>\n",
       "      <td>69733.0</td>\n",
       "      <td>98854.0</td>\n",
       "      <td>199537.0</td>\n",
       "      <td>66993.0</td>\n",
       "      <td>51772.0</td>\n",
       "    </tr>\n",
       "    <tr>\n",
       "      <th>3</th>\n",
       "      <td>12</td>\n",
       "      <td>unlabeled</td>\n",
       "      <td>681192.0</td>\n",
       "      <td>138630.0</td>\n",
       "      <td>67891.0</td>\n",
       "      <td>26459.0</td>\n",
       "      <td>592240.0</td>\n",
       "      <td>171435.0</td>\n",
       "      <td>164399.0</td>\n",
       "      <td>41765.0</td>\n",
       "    </tr>\n",
       "    <tr>\n",
       "      <th>4</th>\n",
       "      <td>12</td>\n",
       "      <td>unlabeled</td>\n",
       "      <td>268406.0</td>\n",
       "      <td>197772.0</td>\n",
       "      <td>190654.0</td>\n",
       "      <td>266433.0</td>\n",
       "      <td>91683.0</td>\n",
       "      <td>200452.0</td>\n",
       "      <td>107585.0</td>\n",
       "      <td>57841.0</td>\n",
       "    </tr>\n",
       "  </tbody>\n",
       "</table>\n",
       "</div>"
      ],
      "text/plain": [
       "   id      label          0         1         2         3         4         5  \\\n",
       "0  12  unlabeled   944412.0  111373.0   52404.0   28390.0    3237.0   32728.0   \n",
       "1  12  unlabeled  1793049.0   89551.0    3896.0   21727.0    9301.0   16096.0   \n",
       "2  12  unlabeled   400192.0  640624.0  153087.0   69733.0   98854.0  199537.0   \n",
       "3  12  unlabeled   681192.0  138630.0   67891.0   26459.0  592240.0  171435.0   \n",
       "4  12  unlabeled   268406.0  197772.0  190654.0  266433.0   91683.0  200452.0   \n",
       "\n",
       "          6        7  \n",
       "0    4845.0   2036.0  \n",
       "1    3496.0    643.0  \n",
       "2   66993.0  51772.0  \n",
       "3  164399.0  41765.0  \n",
       "4  107585.0  57841.0  "
      ]
     },
     "execution_count": 11,
     "metadata": {},
     "output_type": "execute_result"
    }
   ],
   "source": [
    "df_eeg.head()"
   ]
  },
  {
   "cell_type": "code",
   "execution_count": 12,
   "metadata": {
    "scrolled": true
   },
   "outputs": [
    {
     "data": {
      "text/plain": [
       "unlabeled                       20054\n",
       "relax                             934\n",
       "music                             932\n",
       "thinkOfItems-ver2                 481\n",
       "video-ver2                        481\n",
       "colorInstruction2                 469\n",
       "video-ver1                        457\n",
       "thinkOfItems-ver1                 449\n",
       "thinkOfItemsInstruction-ver2      321\n",
       "colorInstruction1                 316\n",
       "thinkOfItemsInstruction-ver1      303\n",
       "videoInstruction                  161\n",
       "mathInstruction                   161\n",
       "relaxInstruction                  158\n",
       "musicInstruction                  152\n",
       "blinkInstruction                  132\n",
       "colorRound1-3                     128\n",
       "colorRound1-4                     127\n",
       "colorRound1-2                     125\n",
       "colorRound1-1                     125\n",
       "colorRound1-5                     124\n",
       "colorRound1-6                     122\n",
       "readyRound5                        96\n",
       "colorRound5-3                      96\n",
       "colorRound2-4                      95\n",
       "readyRound4                        95\n",
       "readyRound2                        95\n",
       "readyRound1                        94\n",
       "colorRound2-1                      94\n",
       "colorRound5-5                      94\n",
       "                                ...  \n",
       "colorRound5-4                      90\n",
       "math10                             84\n",
       "math2                              83\n",
       "math8                              83\n",
       "math4                              79\n",
       "math6                              79\n",
       "math11                             78\n",
       "math12                             78\n",
       "math3                              76\n",
       "math7                              76\n",
       "math5                              75\n",
       "math9                              73\n",
       "math1                              72\n",
       "colorRound3-2                      63\n",
       "colorRound3-4                      63\n",
       "colorRound3-3                      61\n",
       "colorRound3-5                      61\n",
       "colorRound3-1                      61\n",
       "blink5                             53\n",
       "blink1                             51\n",
       "blink3                             48\n",
       "colorRound3-6                      48\n",
       "blink2                             44\n",
       "blink4                             43\n",
       "colorRound4-3                      32\n",
       "colorRound4-5                      32\n",
       "colorRound4-6                      32\n",
       "colorRound4-2                      30\n",
       "colorRound4-4                      29\n",
       "colorRound4-1                      29\n",
       "Name: label, Length: 68, dtype: int64"
      ]
     },
     "execution_count": 12,
     "metadata": {},
     "output_type": "execute_result"
    }
   ],
   "source": [
    "df_eeg['label'].value_counts()"
   ]
  },
  {
   "cell_type": "code",
   "execution_count": 13,
   "metadata": {},
   "outputs": [
    {
     "data": {
      "text/plain": [
       "id         int64\n",
       "label     object\n",
       "0        float64\n",
       "1        float64\n",
       "2        float64\n",
       "3        float64\n",
       "4        float64\n",
       "5        float64\n",
       "6        float64\n",
       "7        float64\n",
       "dtype: object"
      ]
     },
     "execution_count": 13,
     "metadata": {},
     "output_type": "execute_result"
    }
   ],
   "source": [
    "df_eeg.dtypes"
   ]
  },
  {
   "cell_type": "code",
   "execution_count": 14,
   "metadata": {},
   "outputs": [],
   "source": [
    "df_eeg_ch = df_eeg.drop('id', 1)"
   ]
  },
  {
   "cell_type": "code",
   "execution_count": 15,
   "metadata": {},
   "outputs": [],
   "source": [
    "# clean labels\n",
    "def clean_labels(dd):\n",
    "    dd.loc[dd.label == 'math1', 'label'] = \"math\"\n",
    "    dd.loc[dd.label == 'math2', 'label'] = \"math\"\n",
    "    dd.loc[dd.label == 'math3', 'label'] = \"math\"\n",
    "    dd.loc[dd.label == 'math4', 'label'] = \"math\"\n",
    "    dd.loc[dd.label == 'math5', 'label'] = \"math\"\n",
    "    dd.loc[dd.label == 'math6', 'label'] = \"math\"\n",
    "    dd.loc[dd.label == 'math7', 'label'] = \"math\"\n",
    "    dd.loc[dd.label == 'math8', 'label'] = \"math\"\n",
    "    dd.loc[dd.label == 'math9', 'label'] = \"math\"\n",
    "    dd.loc[dd.label == 'math10', 'label'] = \"math\"\n",
    "    dd.loc[dd.label == 'math11', 'label'] = \"math\"\n",
    "    dd.loc[dd.label == 'math12', 'label'] = \"math\"\n",
    "    dd.loc[dd.label == 'colorRound1-1', 'label'] = \"colors\"\n",
    "    dd.loc[dd.label == 'colorRound1-2', 'label'] = \"colors\"\n",
    "    dd.loc[dd.label == 'colorRound1-3', 'label'] = \"colors\"\n",
    "    dd.loc[dd.label == 'colorRound1-4', 'label'] = \"colors\"\n",
    "    dd.loc[dd.label == 'colorRound1-5', 'label'] = \"colors\"\n",
    "    dd.loc[dd.label == 'colorRound1-6', 'label'] = \"colors\"\n",
    "    dd.loc[dd.label == 'colorRound2-1', 'label'] = \"colors\"\n",
    "    dd.loc[dd.label == 'colorRound2-2', 'label'] = \"colors\"\n",
    "    dd.loc[dd.label == 'colorRound2-3', 'label'] = \"colors\"\n",
    "    dd.loc[dd.label == 'colorRound2-4', 'label'] = \"colors\"\n",
    "    dd.loc[dd.label == 'colorRound2-5', 'label'] = \"colors\"\n",
    "    dd.loc[dd.label == 'colorRound2-6', 'label'] = \"colors\"\n",
    "    dd.loc[dd.label == 'colorRound3-1', 'label'] = \"colors\"\n",
    "    dd.loc[dd.label == 'colorRound3-2', 'label'] = \"colors\"\n",
    "    dd.loc[dd.label == 'colorRound3-3', 'label'] = \"colors\"\n",
    "    dd.loc[dd.label == 'colorRound3-4', 'label'] = \"colors\"\n",
    "    dd.loc[dd.label == 'colorRound3-5', 'label'] = \"colors\"\n",
    "    dd.loc[dd.label == 'colorRound3-6', 'label'] = \"colors\"\n",
    "    dd.loc[dd.label == 'colorRound4-1', 'label'] = \"colors\"\n",
    "    dd.loc[dd.label == 'colorRound4-2', 'label'] = \"colors\"\n",
    "    dd.loc[dd.label == 'colorRound4-3', 'label'] = \"colors\"\n",
    "    dd.loc[dd.label == 'colorRound4-4', 'label'] = \"colors\"\n",
    "    dd.loc[dd.label == 'colorRound4-5', 'label'] = \"colors\"\n",
    "    dd.loc[dd.label == 'colorRound4-6', 'label'] = \"colors\"\n",
    "    dd.loc[dd.label == 'colorRound5-1', 'label'] = \"colors\"\n",
    "    dd.loc[dd.label == 'colorRound5-2', 'label'] = \"colors\"\n",
    "    dd.loc[dd.label == 'colorRound5-3', 'label'] = \"colors\"\n",
    "    dd.loc[dd.label == 'colorRound5-4', 'label'] = \"colors\"\n",
    "    dd.loc[dd.label == 'colorRound5-5', 'label'] = \"colors\"\n",
    "    dd.loc[dd.label == 'colorRound5-6', 'label'] = \"colors\"\n",
    "    dd.loc[dd.label == 'readyRound1', 'label'] = \"ready\"\n",
    "    dd.loc[dd.label == 'readyRound2', 'label'] = \"ready\"\n",
    "    dd.loc[dd.label == 'readyRound3', 'label'] = \"ready\"\n",
    "    dd.loc[dd.label == 'readyRound4', 'label'] = \"ready\"\n",
    "    dd.loc[dd.label == 'readyRound5', 'label'] = \"ready\"\n",
    "    dd.loc[dd.label == 'video-ver1', 'label'] = \"video\"\n",
    "    dd.loc[dd.label == 'video-ver2', 'label'] = \"video\"\n",
    "    dd.loc[dd.label == 'blink1', 'label'] = \"blink\"\n",
    "    dd.loc[dd.label == 'blink2', 'label'] = \"blink\"\n",
    "    dd.loc[dd.label == 'blink3', 'label'] = \"blink\"\n",
    "    dd.loc[dd.label == 'blink4', 'label'] = \"blink\"\n",
    "    dd.loc[dd.label == 'blink5', 'label'] = \"blink\"\n",
    "    dd.loc[dd.label == 'thinkOfItemsInstruction-ver1', 'label'] = \"instruction\"\n",
    "    dd.loc[dd.label == 'thinkOfItemsInstruction-ver2', 'label'] = \"instruction\"\n",
    "    dd.loc[dd.label == 'thinkOfItems-ver1', 'label'] = \"instruction\"\n",
    "    dd.loc[dd.label == 'thinkOfItems-ver2', 'label'] = \"instruction\"\n",
    "    dd.loc[dd.label == 'colorInstruction2', 'label'] = \"instruction\"\n",
    "    dd.loc[dd.label == 'colorInstruction1', 'label'] = \"instruction\"\n",
    "    dd.loc[dd.label == 'colorInstruction2', 'label'] = \"instruction\"\n",
    "    dd.loc[dd.label == 'musicInstruction', 'label'] = \"instruction\"\n",
    "    dd.loc[dd.label == 'videoInstruction', 'label'] = \"instruction\"\n",
    "    dd.loc[dd.label == 'mathInstruction', 'label'] = \"instruction\"\n",
    "    dd.loc[dd.label == 'relaxInstruction', 'label'] = \"instruction\"\n",
    "    dd.loc[dd.label == 'blinkInstruction', 'label'] = \"instruction\"\n",
    "    return dd"
   ]
  },
  {
   "cell_type": "code",
   "execution_count": 58,
   "metadata": {},
   "outputs": [],
   "source": [
    "clean_labels_df = clean_labels(df_eeg_ch)"
   ]
  },
  {
   "cell_type": "code",
   "execution_count": 59,
   "metadata": {
    "scrolled": false
   },
   "outputs": [
    {
     "data": {
      "text/plain": [
       "unlabeled      20054\n",
       "instruction     3103\n",
       "colors          2405\n",
       "video            938\n",
       "math             936\n",
       "relax            934\n",
       "music            932\n",
       "ready            472\n",
       "blink            239\n",
       "Name: label, dtype: int64"
      ]
     },
     "execution_count": 59,
     "metadata": {},
     "output_type": "execute_result"
    }
   ],
   "source": [
    "df_eeg_ch['label'].value_counts()"
   ]
  },
  {
   "cell_type": "code",
   "execution_count": 167,
   "metadata": {},
   "outputs": [
    {
     "name": "stderr",
     "output_type": "stream",
     "text": [
      "/Users/dannie/anaconda3/envs/playtime/lib/python3.6/site-packages/ipykernel/__main__.py:3: UserWarning: Boolean Series key will be reindexed to match DataFrame index.\n",
      "  app.launch_new_instance()\n",
      "/Users/dannie/anaconda3/envs/playtime/lib/python3.6/site-packages/ipykernel/__main__.py:4: UserWarning: Boolean Series key will be reindexed to match DataFrame index.\n",
      "/Users/dannie/anaconda3/envs/playtime/lib/python3.6/site-packages/ipykernel/__main__.py:5: UserWarning: Boolean Series key will be reindexed to match DataFrame index.\n",
      "/Users/dannie/anaconda3/envs/playtime/lib/python3.6/site-packages/ipykernel/__main__.py:6: UserWarning: Boolean Series key will be reindexed to match DataFrame index.\n",
      "/Users/dannie/anaconda3/envs/playtime/lib/python3.6/site-packages/ipykernel/__main__.py:8: UserWarning: Boolean Series key will be reindexed to match DataFrame index.\n",
      "/Users/dannie/anaconda3/envs/playtime/lib/python3.6/site-packages/ipykernel/__main__.py:9: UserWarning: Boolean Series key will be reindexed to match DataFrame index.\n"
     ]
    }
   ],
   "source": [
    "# remove unwanted labels\n",
    "df_eeg_chlabel = df_eeg_ch[df_eeg_ch['label'] != 'unlabeled']\n",
    "df_eeg_chlabel = df_eeg_chlabel[df_eeg_ch['label'] != 'instruction']\n",
    "df_eeg_chlabel = df_eeg_chlabel[df_eeg_ch['label'] != 'blink']\n",
    "df_eeg_chlabel = df_eeg_chlabel[df_eeg_ch['label'] != 'ready']\n",
    "df_eeg_chlabel = df_eeg_chlabel[df_eeg_ch['label'] != 'colors']\n",
    "#df_eeg_chlabel = df_eeg_chlabel[df_eeg_ch['label'] != 'video']\n",
    "df_eeg_chlabel = df_eeg_chlabel[df_eeg_ch['label'] != 'music']\n",
    "df_eeg_chlabel = df_eeg_chlabel[df_eeg_ch['label'] != 'math']\n",
    "#df_eeg_chlabel = df_eeg_chlabel[df_eeg_ch['label'] != 'relax']"
   ]
  },
  {
   "cell_type": "code",
   "execution_count": 168,
   "metadata": {},
   "outputs": [
    {
     "data": {
      "text/plain": [
       "video    938\n",
       "relax    934\n",
       "Name: label, dtype: int64"
      ]
     },
     "execution_count": 168,
     "metadata": {},
     "output_type": "execute_result"
    }
   ],
   "source": [
    "df_eeg_chlabel['label'].value_counts()"
   ]
  },
  {
   "cell_type": "code",
   "execution_count": 169,
   "metadata": {
    "scrolled": true
   },
   "outputs": [
    {
     "data": {
      "text/plain": [
       "13274    relax\n",
       "13275    relax\n",
       "13276    relax\n",
       "13277    relax\n",
       "13278    relax\n",
       "Name: label, dtype: object"
      ]
     },
     "execution_count": 169,
     "metadata": {},
     "output_type": "execute_result"
    }
   ],
   "source": [
    "# pop off labels to new group\n",
    "label = df_eeg_chlabel.pop('label')\n",
    "label.head()"
   ]
  },
  {
   "cell_type": "code",
   "execution_count": 170,
   "metadata": {
    "scrolled": true
   },
   "outputs": [
    {
     "data": {
      "text/html": [
       "<div>\n",
       "<style scoped>\n",
       "    .dataframe tbody tr th:only-of-type {\n",
       "        vertical-align: middle;\n",
       "    }\n",
       "\n",
       "    .dataframe tbody tr th {\n",
       "        vertical-align: top;\n",
       "    }\n",
       "\n",
       "    .dataframe thead th {\n",
       "        text-align: right;\n",
       "    }\n",
       "</style>\n",
       "<table border=\"1\" class=\"dataframe\">\n",
       "  <thead>\n",
       "    <tr style=\"text-align: right;\">\n",
       "      <th></th>\n",
       "      <th>0</th>\n",
       "      <th>1</th>\n",
       "      <th>2</th>\n",
       "      <th>3</th>\n",
       "      <th>4</th>\n",
       "      <th>5</th>\n",
       "      <th>6</th>\n",
       "      <th>7</th>\n",
       "    </tr>\n",
       "  </thead>\n",
       "  <tbody>\n",
       "    <tr>\n",
       "      <th>13274</th>\n",
       "      <td>5044.0</td>\n",
       "      <td>10156.0</td>\n",
       "      <td>3281.0</td>\n",
       "      <td>10403.0</td>\n",
       "      <td>12393.0</td>\n",
       "      <td>10266.0</td>\n",
       "      <td>1949.0</td>\n",
       "      <td>2937.0</td>\n",
       "    </tr>\n",
       "    <tr>\n",
       "      <th>13275</th>\n",
       "      <td>548188.0</td>\n",
       "      <td>67192.0</td>\n",
       "      <td>20298.0</td>\n",
       "      <td>4142.0</td>\n",
       "      <td>30576.0</td>\n",
       "      <td>18237.0</td>\n",
       "      <td>5603.0</td>\n",
       "      <td>4783.0</td>\n",
       "    </tr>\n",
       "    <tr>\n",
       "      <th>13276</th>\n",
       "      <td>449571.0</td>\n",
       "      <td>83093.0</td>\n",
       "      <td>15379.0</td>\n",
       "      <td>34656.0</td>\n",
       "      <td>6750.0</td>\n",
       "      <td>10348.0</td>\n",
       "      <td>5315.0</td>\n",
       "      <td>2585.0</td>\n",
       "    </tr>\n",
       "    <tr>\n",
       "      <th>13277</th>\n",
       "      <td>85497.0</td>\n",
       "      <td>20547.0</td>\n",
       "      <td>2723.0</td>\n",
       "      <td>3270.0</td>\n",
       "      <td>2522.0</td>\n",
       "      <td>2209.0</td>\n",
       "      <td>449.0</td>\n",
       "      <td>393.0</td>\n",
       "    </tr>\n",
       "    <tr>\n",
       "      <th>13278</th>\n",
       "      <td>72768.0</td>\n",
       "      <td>44080.0</td>\n",
       "      <td>25974.0</td>\n",
       "      <td>16079.0</td>\n",
       "      <td>12995.0</td>\n",
       "      <td>27132.0</td>\n",
       "      <td>33264.0</td>\n",
       "      <td>9121.0</td>\n",
       "    </tr>\n",
       "  </tbody>\n",
       "</table>\n",
       "</div>"
      ],
      "text/plain": [
       "              0        1        2        3        4        5        6       7\n",
       "13274    5044.0  10156.0   3281.0  10403.0  12393.0  10266.0   1949.0  2937.0\n",
       "13275  548188.0  67192.0  20298.0   4142.0  30576.0  18237.0   5603.0  4783.0\n",
       "13276  449571.0  83093.0  15379.0  34656.0   6750.0  10348.0   5315.0  2585.0\n",
       "13277   85497.0  20547.0   2723.0   3270.0   2522.0   2209.0    449.0   393.0\n",
       "13278   72768.0  44080.0  25974.0  16079.0  12995.0  27132.0  33264.0  9121.0"
      ]
     },
     "execution_count": 170,
     "metadata": {},
     "output_type": "execute_result"
    }
   ],
   "source": [
    "df_eeg_chlabel.head()"
   ]
  },
  {
   "cell_type": "code",
   "execution_count": 171,
   "metadata": {},
   "outputs": [
    {
     "data": {
      "text/html": [
       "<div>\n",
       "<style scoped>\n",
       "    .dataframe tbody tr th:only-of-type {\n",
       "        vertical-align: middle;\n",
       "    }\n",
       "\n",
       "    .dataframe tbody tr th {\n",
       "        vertical-align: top;\n",
       "    }\n",
       "\n",
       "    .dataframe thead th {\n",
       "        text-align: right;\n",
       "    }\n",
       "</style>\n",
       "<table border=\"1\" class=\"dataframe\">\n",
       "  <thead>\n",
       "    <tr style=\"text-align: right;\">\n",
       "      <th></th>\n",
       "      <th>0</th>\n",
       "      <th>1</th>\n",
       "      <th>2</th>\n",
       "      <th>3</th>\n",
       "      <th>4</th>\n",
       "      <th>5</th>\n",
       "      <th>6</th>\n",
       "      <th>7</th>\n",
       "    </tr>\n",
       "  </thead>\n",
       "  <tbody>\n",
       "    <tr>\n",
       "      <th>0</th>\n",
       "      <td>-0.575080</td>\n",
       "      <td>-0.511652</td>\n",
       "      <td>-0.555411</td>\n",
       "      <td>-0.393464</td>\n",
       "      <td>-0.014575</td>\n",
       "      <td>-0.067708</td>\n",
       "      <td>-0.498317</td>\n",
       "      <td>-0.319119</td>\n",
       "    </tr>\n",
       "    <tr>\n",
       "      <th>1</th>\n",
       "      <td>0.577046</td>\n",
       "      <td>0.064760</td>\n",
       "      <td>-0.153283</td>\n",
       "      <td>-0.584632</td>\n",
       "      <td>1.277384</td>\n",
       "      <td>0.609695</td>\n",
       "      <td>-0.124305</td>\n",
       "      <td>-0.044454</td>\n",
       "    </tr>\n",
       "    <tr>\n",
       "      <th>2</th>\n",
       "      <td>0.367858</td>\n",
       "      <td>0.225457</td>\n",
       "      <td>-0.269524</td>\n",
       "      <td>0.347057</td>\n",
       "      <td>-0.415528</td>\n",
       "      <td>-0.060739</td>\n",
       "      <td>-0.153784</td>\n",
       "      <td>-0.371493</td>\n",
       "    </tr>\n",
       "    <tr>\n",
       "      <th>3</th>\n",
       "      <td>-0.404422</td>\n",
       "      <td>-0.406639</td>\n",
       "      <td>-0.568597</td>\n",
       "      <td>-0.611257</td>\n",
       "      <td>-0.715941</td>\n",
       "      <td>-0.752419</td>\n",
       "      <td>-0.651853</td>\n",
       "      <td>-0.697639</td>\n",
       "    </tr>\n",
       "    <tr>\n",
       "      <th>4</th>\n",
       "      <td>-0.431423</td>\n",
       "      <td>-0.168812</td>\n",
       "      <td>-0.019154</td>\n",
       "      <td>-0.220157</td>\n",
       "      <td>0.028199</td>\n",
       "      <td>1.365622</td>\n",
       "      <td>2.706987</td>\n",
       "      <td>0.600993</td>\n",
       "    </tr>\n",
       "  </tbody>\n",
       "</table>\n",
       "</div>"
      ],
      "text/plain": [
       "          0         1         2         3         4         5         6  \\\n",
       "0 -0.575080 -0.511652 -0.555411 -0.393464 -0.014575 -0.067708 -0.498317   \n",
       "1  0.577046  0.064760 -0.153283 -0.584632  1.277384  0.609695 -0.124305   \n",
       "2  0.367858  0.225457 -0.269524  0.347057 -0.415528 -0.060739 -0.153784   \n",
       "3 -0.404422 -0.406639 -0.568597 -0.611257 -0.715941 -0.752419 -0.651853   \n",
       "4 -0.431423 -0.168812 -0.019154 -0.220157  0.028199  1.365622  2.706987   \n",
       "\n",
       "          7  \n",
       "0 -0.319119  \n",
       "1 -0.044454  \n",
       "2 -0.371493  \n",
       "3 -0.697639  \n",
       "4  0.600993  "
      ]
     },
     "execution_count": 171,
     "metadata": {},
     "output_type": "execute_result"
    }
   ],
   "source": [
    "eeg_chlabel_scarray = StandardScaler().fit_transform(df_eeg_chlabel)\n",
    "df_eeg_chlabel_sc = pd.DataFrame(eeg_chlabel_scarray)\n",
    "df_eeg_chlabel_sc.head()"
   ]
  },
  {
   "cell_type": "code",
   "execution_count": 172,
   "metadata": {},
   "outputs": [],
   "source": [
    "eeg_values = df_eeg_chlabel_sc.values"
   ]
  },
  {
   "cell_type": "code",
   "execution_count": 173,
   "metadata": {},
   "outputs": [
    {
     "data": {
      "text/plain": [
       "array([[-0.5750801 , -0.51165187, -0.55541057, ..., -0.06770789,\n",
       "        -0.4983173 , -0.31911905],\n",
       "       [ 0.57704636,  0.06476019, -0.15328334, ...,  0.60969476,\n",
       "        -0.12430547, -0.04445433],\n",
       "       [ 0.36785827,  0.22545743, -0.2695238 , ..., -0.06073925,\n",
       "        -0.15378424, -0.37149282],\n",
       "       ...,\n",
       "       [-0.18664278, -0.3194943 , -0.42796906, ..., -0.79669546,\n",
       "        -0.56904586, -0.02079686],\n",
       "       [ 0.54841629, -0.13830187, -0.06242248, ...,  0.83362601,\n",
       "         0.53466775,  0.63253619],\n",
       "       [-0.57323464, -0.53194494, -0.62200248, ..., -0.53469165,\n",
       "         1.58925009,  1.15791058]])"
      ]
     },
     "execution_count": 173,
     "metadata": {},
     "output_type": "execute_result"
    }
   ],
   "source": [
    "eeg_values"
   ]
  },
  {
   "cell_type": "code",
   "execution_count": 174,
   "metadata": {},
   "outputs": [],
   "source": [
    "# convert labels to onehots\n",
    "train_labels = pd.get_dummies(label)"
   ]
  },
  {
   "cell_type": "code",
   "execution_count": 175,
   "metadata": {},
   "outputs": [
    {
     "data": {
      "text/plain": [
       "(1872, 2)"
      ]
     },
     "execution_count": 175,
     "metadata": {},
     "output_type": "execute_result"
    }
   ],
   "source": [
    "train_labels.shape"
   ]
  },
  {
   "cell_type": "code",
   "execution_count": 176,
   "metadata": {},
   "outputs": [],
   "source": [
    "# convert train_labels to np array\n",
    "train_labels_values = train_labels.values"
   ]
  },
  {
   "cell_type": "code",
   "execution_count": 177,
   "metadata": {},
   "outputs": [],
   "source": [
    "x_train, x_test, y_train, y_test = train_test_split(eeg_values,\n",
    "                                                    train_labels_values,\n",
    "                                                    test_size=0.2)"
   ]
  },
  {
   "cell_type": "code",
   "execution_count": 178,
   "metadata": {},
   "outputs": [],
   "source": [
    "x_train, x_test, y_train, y_test = np.array(x_train, dtype='float32'), np.array(x_test, dtype='float32'), np.array(y_train, dtype='float32'), np.array(y_test, dtype='float32')"
   ]
  },
  {
   "cell_type": "code",
   "execution_count": 179,
   "metadata": {},
   "outputs": [],
   "source": [
    "# build a simple tensorflow model with 1 hidden layer with 1000 nodes in this layer\n",
    "x = tf.placeholder(tf.float32, [None, x_train.shape[1]])\n",
    "w1 = tf.Variable(tf.random_normal([x_train.shape[1], 1000], stddev=.5, name='w1'))\n",
    "b1 = tf.Variable(tf.zeros([1000]))\n",
    "# calculate hidden output\n",
    "hidden_output = tf.nn.softmax(tf.matmul(x, w1) + b1)\n",
    "# bring from 1000 nodes to one of 8 possible labels\n",
    "w2 = tf.Variable(tf.random_normal([1000, y_train.shape[1]], stddev=.5, name='w2'))\n",
    "b2 = tf.Variable(tf.zeros([y_train.shape[1]]))\n",
    "# placeholder for correct values\n",
    "y_ = tf.placeholder('float', [None, y_train.shape[1]])\n",
    "# implement model, find predicted y\n",
    "y = tf.nn.softmax(tf.matmul(hidden_output, w2) + b2)"
   ]
  },
  {
   "cell_type": "code",
   "execution_count": 180,
   "metadata": {},
   "outputs": [],
   "source": [
    "# use ADAM optimizer to adjust learning rate over time\n",
    "loss = tf.reduce_mean(tf.reduce_sum(tf.nn.softmax_cross_entropy_with_logits(logits=y, labels=y_, name='xentropy')))\n",
    "opt = tf.train.AdamOptimizer(learning_rate=.0005)\n",
    "train_step = opt.minimize(loss, var_list=[w1, b1, w2, b2])"
   ]
  },
  {
   "cell_type": "code",
   "execution_count": 181,
   "metadata": {},
   "outputs": [],
   "source": [
    "# get mini_batch, so that we aren't feeding data in every training epoch\n",
    "def get_mini_batch(x,y):\n",
    "    rows = np.random.choice(x.shape[0], 100)\n",
    "    return x[rows], y[rows]"
   ]
  },
  {
   "cell_type": "code",
   "execution_count": 182,
   "metadata": {},
   "outputs": [],
   "source": [
    "sess = tf.Session()\n",
    "# init all vars in graph\n",
    "## init = tf.initialize_all_variables()\n",
    "init = tf.global_variables_initializer()\n",
    "sess.run(init)"
   ]
  },
  {
   "cell_type": "code",
   "execution_count": 183,
   "metadata": {},
   "outputs": [
    {
     "name": "stdout",
     "output_type": "stream",
     "text": [
      "epoch is 0 and cost is 69.56936645507812\n",
      "epoch is 500 and cost is 67.87948608398438\n",
      "epoch is 1000 and cost is 68.73283386230469\n",
      "epoch is 1500 and cost is 65.89002990722656\n",
      "epoch is 2000 and cost is 63.916561126708984\n",
      "epoch is 2500 and cost is 65.16968536376953\n",
      "epoch is 3000 and cost is 65.02008819580078\n",
      "epoch is 3500 and cost is 63.388633728027344\n",
      "epoch is 4000 and cost is 64.01756286621094\n",
      "epoch is 4500 and cost is 60.71466827392578\n",
      "epoch is 5000 and cost is 61.37683868408203\n",
      "epoch is 5500 and cost is 62.655662536621094\n",
      "epoch is 6000 and cost is 61.11294174194336\n",
      "epoch is 6500 and cost is 61.66944122314453\n",
      "epoch is 7000 and cost is 59.77870178222656\n",
      "epoch is 7500 and cost is 62.694610595703125\n",
      "epoch is 8000 and cost is 62.848548889160156\n",
      "epoch is 8500 and cost is 62.31763458251953\n",
      "epoch is 9000 and cost is 64.17024230957031\n",
      "epoch is 9500 and cost is 61.29704284667969\n"
     ]
    }
   ],
   "source": [
    "ntrials = 10000\n",
    "for i in range(ntrials):\n",
    "    # get mini batch\n",
    "    a,b = get_mini_batch(x_train, y_train)\n",
    "    # run train step, feeding arrays of 100 rows at a time\n",
    "    _, cost = sess.run([train_step, loss], feed_dict={x: a, y_: b})\n",
    "    if i%500 == 0:\n",
    "        print('epoch is {0} and cost is {1}'.format(i, cost))\n",
    "        \n",
    "correct_prediction = tf.equal(tf.argmax(y, 1), tf.argmax(y_, 1))\n",
    "accuracy = tf.reduce_mean(tf.cast(correct_prediction, tf.float32))"
   ]
  },
  {
   "cell_type": "code",
   "execution_count": 184,
   "metadata": {},
   "outputs": [
    {
     "name": "stdout",
     "output_type": "stream",
     "text": [
      "test accuracy is 0.5893333554267883\n"
     ]
    }
   ],
   "source": [
    "print(\"test accuracy is {}\".format(sess.run(accuracy, feed_dict={x: x_test, y_: y_test})))"
   ]
  },
  {
   "cell_type": "code",
   "execution_count": 130,
   "metadata": {},
   "outputs": [
    {
     "data": {
      "text/plain": [
       "<bound method BaseSession.close of <tensorflow.python.client.session.Session object at 0x125f05f60>>"
      ]
     },
     "execution_count": 130,
     "metadata": {},
     "output_type": "execute_result"
    }
   ],
   "source": [
    "sess.close"
   ]
  },
  {
   "cell_type": "markdown",
   "metadata": {
    "collapsed": true
   },
   "source": [
    "music/relax > 0.51 <br>\n",
    "math/relax > 0.63 <br>\n",
    "math/music > 0.623 <br>\n",
    "math/video > 0.57 <br>\n",
    "music/video > 0.6096 <br>\n",
    "video/relax > 0.589\n"
   ]
  },
  {
   "cell_type": "code",
   "execution_count": null,
   "metadata": {},
   "outputs": [],
   "source": []
  }
 ],
 "metadata": {
  "kernelspec": {
   "display_name": "Python [conda env:playtime]",
   "language": "python",
   "name": "conda-env-playtime-py"
  },
  "language_info": {
   "codemirror_mode": {
    "name": "ipython",
    "version": 3
   },
   "file_extension": ".py",
   "mimetype": "text/x-python",
   "name": "python",
   "nbconvert_exporter": "python",
   "pygments_lexer": "ipython3",
   "version": "3.6.4"
  }
 },
 "nbformat": 4,
 "nbformat_minor": 2
}
